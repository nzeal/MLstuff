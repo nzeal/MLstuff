{
 "cells": [
  {
   "cell_type": "code",
   "execution_count": 7,
   "id": "81abeb6d",
   "metadata": {},
   "outputs": [],
   "source": [
    "import pandas as pd\n",
    "import numpy as np\n",
    "from sklearn.neighbors import KNeighborsClassifier\n",
    "from sklearn import metrics\n",
    "from sklearn.model_selection import train_test_split\n",
    "import matplotlib.pyplot as plt"
   ]
  },
  {
   "cell_type": "code",
   "execution_count": 10,
   "id": "71e47450",
   "metadata": {},
   "outputs": [],
   "source": [
    "path = '../../0-DATA/weather.csv'"
   ]
  },
  {
   "cell_type": "code",
   "execution_count": 11,
   "id": "8ee18243",
   "metadata": {},
   "outputs": [],
   "source": [
    "# data preparation\n",
    "def dataprep():\n",
    "    dataset = pd.read_csv(path, parse_dates=True, index_col=0)\n",
    "    header = ['Humidity3pm', 'Pressure3pm', 'Cloud3pm', 'RainTomorrow']\n",
    "    df = dataset[header]\n",
    "    dataset_clean = df.dropna()\n",
    "    X = dataset_clean[header[:3]]\n",
    "    y = dataset_clean[header[3]]\n",
    "    y = np.array([0 if value == 'No' else 1 for value in y])\n",
    "    return X, y\n",
    "\n",
    "dataset = dataprep()\n",
    "X = dataset[0]\n",
    "y = dataset[1]"
   ]
  },
  {
   "cell_type": "code",
   "execution_count": 129,
   "id": "77bbec35",
   "metadata": {},
   "outputs": [
    {
     "data": {
      "image/png": "[encoded data removed]",
      "text/plain": [
       "<Figure size 640x640 with 1 Axes>"
      ]
     },
     "metadata": {
      "needs_background": "light"
     },
     "output_type": "display_data"
    }
   ],
   "source": [
    "rfig = plt.figure(figsize=(4,4),dpi=160)\n",
    "k_range = range(1,5)\n",
    "for k in k_range:\n",
    "    knn = KNeighborsClassifier(n_neighbors = k)\n",
    "    \n",
    "    t = [0.8, 0.7, 0.6]\n",
    "    \n",
    "    for s in t:\n",
    "        scores = []\n",
    "        for i in range(1,100):\n",
    "            X_train, X_test, y_train, y_test = train_test_split(X, y, test_size = 1-s)\n",
    "            knn.fit(X_train, y_train)\n",
    "            scores.append(knn.score(X_test, y_test))\n",
    "        \n",
    "        for i in range(len(scores)):\n",
    "            plt.plot(s, np.mean(scores), 'bo')"
   ]
  },
  {
   "cell_type": "code",
   "execution_count": null,
   "id": "311af71c",
   "metadata": {},
   "outputs": [],
   "source": []
  }
 ],
 "metadata": {
  "kernelspec": {
   "display_name": "Python 3 (ipykernel)",
   "language": "python",
   "name": "python3"
  },
  "language_info": {
   "codemirror_mode": {
    "name": "ipython",
    "version": 3
   },
   "file_extension": ".py",
   "mimetype": "text/x-python",
   "name": "python",
   "nbconvert_exporter": "python",
   "pygments_lexer": "ipython3",
   "version": "3.10.5"
  }
 },
 "nbformat": 4,
 "nbformat_minor": 5
}
