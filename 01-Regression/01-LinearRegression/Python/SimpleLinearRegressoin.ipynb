{
 "cells": [
  {
   "cell_type": "markdown",
   "metadata": {},
   "source": [
    "# Simple Linear Regression (SLR)\n",
    "\n",
    "Objective: \n",
    "1. Learn about LR \n",
    "2. Understand if the problem is a LR problem\n",
    "3. Hands-on experience with LR"
   ]
  },
  {
   "cell_type": "markdown",
   "metadata": {},
   "source": [
    "# What is SLR?\n",
    "\n",
    "The key idea is to consider a dependent variable Y and see how it is affected by one or more independent variables, typically denoted by x.\n",
    "\n",
    "$ y = β_0 + β_1 x $\n",
    "\n",
    "where:\n",
    "\n",
    "- y = Depedent variable\n",
    "- x = Independent variable\n",
    "- $β_0$ = Intrecept\n",
    "- $β_1$ = slope.\n",
    "\n",
    "## Learn about Libraries\n",
    "\n",
    "- **numpy** : *For scientific computing*\n",
    "- **matplotlib** : *For visualization*\n",
    "- **pandas** : Data analysis and manipulation tool \n",
    "\n",
    "## Data processing tools \n",
    "- Read data from **CSV** file \n",
    "- Taking care of missing data \n",
    "- **train_test_splot** from **sklearn**\n",
    "- ** LinearRegression to train (fit) the model\n",
    "- Check the accouracy **metircs.r2_score**"
   ]
  },
  {
   "cell_type": "markdown",
   "metadata": {},
   "source": [
    "# Step-1: Importing the libraries"
   ]
  },
  {
   "cell_type": "code",
   "execution_count": 7,
   "metadata": {},
   "outputs": [],
   "source": [
    "import numpy as np\n",
    "import matplotlib.pyplot as plt\n",
    "import pandas as pd\n",
    "import csv\n",
    "\n",
    "from sklearn.model_selection import train_test_split\n",
    "from sklearn.linear_model import LinearRegression\n",
    "from sklearn.metrics import r2_score\n",
    "import matplotlib.pyplot as plt\n",
    "%matplotlib inline"
   ]
  },
  {
   "cell_type": "markdown",
   "metadata": {},
   "source": [
    "# Step2- Import the Data set"
   ]
  },
  {
   "cell_type": "code",
   "execution_count": 50,
   "metadata": {},
   "outputs": [],
   "source": [
    "path = '/Users/nitshuklayahoo.com/Documents/HPC/Courses/MLcode/0-DATA/house_prices.csv'\n",
    "with open(path) as csvfile:\n",
    "    dataset = pd.read_csv(csvfile, parse_dates=True,  index_col=0, skipinitialspace=True)"
   ]
  },
  {
   "cell_type": "code",
   "execution_count": null,
   "metadata": {},
   "outputs": [],
   "source": [
    "    "
   ]
  },
  {
   "cell_type": "code",
   "execution_count": null,
   "metadata": {},
   "outputs": [],
   "source": []
  },
  {
   "cell_type": "code",
   "execution_count": null,
   "metadata": {},
   "outputs": [],
   "source": []
  },
  {
   "cell_type": "code",
   "execution_count": null,
   "metadata": {},
   "outputs": [],
   "source": []
  }
 ],
 "metadata": {
  "kernelspec": {
   "display_name": "Python 3",
   "language": "python",
   "name": "python3"
  },
  "language_info": {
   "codemirror_mode": {
    "name": "ipython",
    "version": 3
   },
   "file_extension": ".py",
   "mimetype": "text/x-python",
   "name": "python",
   "nbconvert_exporter": "python",
   "pygments_lexer": "ipython3",
   "version": "3.8.5"
  }
 },
 "nbformat": 4,
 "nbformat_minor": 4
}
