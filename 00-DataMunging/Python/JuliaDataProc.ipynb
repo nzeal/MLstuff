{
 "cells": [
  {
   "cell_type": "markdown",
   "metadata": {},
   "source": [
    "# Data Preprocessing Template"
   ]
  },
  {
   "cell_type": "code",
   "execution_count": 5,
   "metadata": {},
   "outputs": [],
   "source": [
    "# Importing the libraries\n",
    "using DataFrames, CSV"
   ]
  },
  {
   "cell_type": "code",
   "execution_count": 139,
   "metadata": {},
   "outputs": [],
   "source": [
    "dataset = CSV.read(\"Data.csv\", DataFrame);\n",
    "\n",
    "X = dataset[:,1:3];\n",
    "y= dataset[:, :4];"
   ]
  },
  {
   "cell_type": "code",
   "execution_count": 15,
   "metadata": {},
   "outputs": [
    {
     "name": "stdout",
     "output_type": "stream",
     "text": [
      "\u001b[1m10×3 DataFrame\u001b[0m\n",
      "\u001b[1m Row \u001b[0m│\u001b[1m Country \u001b[0m\u001b[1m Age     \u001b[0m\u001b[1m Salary  \u001b[0m\n",
      "\u001b[1m     \u001b[0m│\u001b[90m String7 \u001b[0m\u001b[90m Int64?  \u001b[0m\u001b[90m Int64?  \u001b[0m\n",
      "─────┼───────────────────────────\n",
      "   1 │ France        44    72000\n",
      "   2 │ Spain         27    48000\n",
      "   3 │ Germany       30    54000\n",
      "   4 │ Spain         38    61000\n",
      "   5 │ Germany       40 \u001b[90m missing \u001b[0m\n",
      "   6 │ France        35    58000\n",
      "   7 │ Spain   \u001b[90m missing \u001b[0m   52000\n",
      "   8 │ France        48    79000\n",
      "   9 │ Germany       50    83000\n",
      "  10 │ France        37    67000"
     ]
    }
   ],
   "source": [
    "print(X)"
   ]
  },
  {
   "cell_type": "code",
   "execution_count": 16,
   "metadata": {},
   "outputs": [
    {
     "name": "stdout",
     "output_type": "stream",
     "text": [
      "String3[\"No\", \"Yes\", \"No\", \"No\", \"Yes\", \"Yes\", \"No\", \"Yes\", \"No\", \"Yes\"]"
     ]
    }
   ],
   "source": [
    "print(y)"
   ]
  },
  {
   "cell_type": "code",
   "execution_count": 31,
   "metadata": {},
   "outputs": [],
   "source": [
    "using DataFrames, Statistics"
   ]
  },
  {
   "cell_type": "code",
   "execution_count": 57,
   "metadata": {},
   "outputs": [
    {
     "data": {
      "text/plain": [
       "missing"
      ]
     },
     "execution_count": 57,
     "metadata": {},
     "output_type": "execute_result"
    }
   ],
   "source": [
    "mean(dataset[:,2])"
   ]
  },
  {
   "cell_type": "code",
   "execution_count": 140,
   "metadata": {},
   "outputs": [
    {
     "data": {
      "text/html": [
       "<div class=\"data-frame\"><p>4 rows × 7 columns</p><table class=\"data-frame\"><thead><tr><th></th><th>variable</th><th>mean</th><th>min</th><th>median</th><th>max</th><th>nmissing</th><th>eltype</th></tr><tr><th></th><th title=\"Symbol\">Symbol</th><th title=\"Union{Nothing, Float64}\">Union…</th><th title=\"Any\">Any</th><th title=\"Union{Nothing, Float64}\">Union…</th><th title=\"Any\">Any</th><th title=\"Int64\">Int64</th><th title=\"Type\">Type</th></tr></thead><tbody><tr><th>1</th><td>Country</td><td></td><td>France</td><td></td><td>Spain</td><td>0</td><td>String7</td></tr><tr><th>2</th><td>Age</td><td>38.7778</td><td>27</td><td>38.0</td><td>50</td><td>1</td><td>Union{Missing, Int64}</td></tr><tr><th>3</th><td>Salary</td><td>63777.8</td><td>48000</td><td>61000.0</td><td>83000</td><td>1</td><td>Union{Missing, Int64}</td></tr><tr><th>4</th><td>Purchased</td><td></td><td>No</td><td></td><td>Yes</td><td>0</td><td>String3</td></tr></tbody></table></div>"
      ],
      "text/latex": [
       "\\begin{tabular}{r|ccccccc}\n",
       "\t& variable & mean & min & median & max & nmissing & eltype\\\\\n",
       "\t\\hline\n",
       "\t& Symbol & Union… & Any & Union… & Any & Int64 & Type\\\\\n",
       "\t\\hline\n",
       "\t1 & Country &  & France &  & Spain & 0 & String7 \\\\\n",
       "\t2 & Age & 38.7778 & 27 & 38.0 & 50 & 1 & Union\\{Missing, Int64\\} \\\\\n",
       "\t3 & Salary & 63777.8 & 48000 & 61000.0 & 83000 & 1 & Union\\{Missing, Int64\\} \\\\\n",
       "\t4 & Purchased &  & No &  & Yes & 0 & String3 \\\\\n",
       "\\end{tabular}\n"
      ],
      "text/plain": [
       "\u001b[1m4×7 DataFrame\u001b[0m\n",
       "\u001b[1m Row \u001b[0m│\u001b[1m variable  \u001b[0m\u001b[1m mean    \u001b[0m\u001b[1m min    \u001b[0m\u001b[1m median  \u001b[0m\u001b[1m max   \u001b[0m\u001b[1m nmissing \u001b[0m\u001b[1m eltype           \u001b[0m ⋯\n",
       "\u001b[1m     \u001b[0m│\u001b[90m Symbol    \u001b[0m\u001b[90m Union…  \u001b[0m\u001b[90m Any    \u001b[0m\u001b[90m Union…  \u001b[0m\u001b[90m Any   \u001b[0m\u001b[90m Int64    \u001b[0m\u001b[90m Type             \u001b[0m ⋯\n",
       "─────┼──────────────────────────────────────────────────────────────────────────\n",
       "   1 │ Country   \u001b[90m         \u001b[0m France \u001b[90m         \u001b[0m Spain         0  String7           ⋯\n",
       "   2 │ Age        38.7778  27      38.0     50            1  Union{Missing, In\n",
       "   3 │ Salary     63777.8  48000   61000.0  83000         1  Union{Missing, In\n",
       "   4 │ Purchased \u001b[90m         \u001b[0m No     \u001b[90m         \u001b[0m Yes           0  String3\n",
       "\u001b[36m                                                                1 column omitted\u001b[0m"
      ]
     },
     "execution_count": 140,
     "metadata": {},
     "output_type": "execute_result"
    }
   ],
   "source": [
    "describe(dataset)"
   ]
  },
  {
   "cell_type": "code",
   "execution_count": 124,
   "metadata": {},
   "outputs": [
    {
     "data": {
      "text/plain": [
       "10-element Vector{Union{Missing, Int64}}:\n",
       " 44\n",
       " 27\n",
       " 30\n",
       " 38\n",
       " 40\n",
       " 35\n",
       " 39\n",
       " 48\n",
       " 50\n",
       " 37"
      ]
     },
     "execution_count": 124,
     "metadata": {},
     "output_type": "execute_result"
    }
   ],
   "source": [
    "secondcol = dataset[:,2]\n",
    "for i in eachindex(secondcol)\n",
    "    if (ismissing.(secondcol))[i] == 1\n",
    "        secondcol[i] = convert(Int64, round(38.7778, digits=0))\n",
    "    end\n",
    "end\n",
    "secondcol"
   ]
  },
  {
   "cell_type": "code",
   "execution_count": 125,
   "metadata": {},
   "outputs": [
    {
     "data": {
      "text/plain": [
       "10-element Vector{Union{Missing, Int64}}:\n",
       " 72000\n",
       " 48000\n",
       " 54000\n",
       " 61000\n",
       " 63778\n",
       " 58000\n",
       " 52000\n",
       " 79000\n",
       " 83000\n",
       " 67000"
      ]
     },
     "execution_count": 125,
     "metadata": {},
     "output_type": "execute_result"
    }
   ],
   "source": [
    "thirdcol = dataset[:,3]\n",
    "for i in eachindex(thirdcol)\n",
    "    if (ismissing.(thirdcol))[i] == 1\n",
    "        thirdcol[i] = convert(Int64, round(63777.8, digits=0))\n",
    "    end\n",
    "end\n",
    "thirdcol"
   ]
  },
  {
   "cell_type": "code",
   "execution_count": 147,
   "metadata": {},
   "outputs": [],
   "source": [
    "using ScikitLearn"
   ]
  },
  {
   "cell_type": "code",
   "execution_count": null,
   "metadata": {},
   "outputs": [],
   "source": [
    "@sk_import preprocessing:(ColumnTransformer)"
   ]
  },
  {
   "cell_type": "code",
   "execution_count": null,
   "metadata": {},
   "outputs": [],
   "source": [
    "@sk_import preprocessing: (OneHotEncoder)"
   ]
  },
  {
   "cell_type": "code",
   "execution_count": null,
   "metadata": {},
   "outputs": [],
   "source": []
  }
 ],
 "metadata": {
  "kernelspec": {
   "display_name": "Julia 1.7.0-DEV",
   "language": "julia",
   "name": "julia-1.7"
  },
  "language_info": {
   "file_extension": ".jl",
   "mimetype": "application/julia",
   "name": "julia",
   "version": "1.8.0"
  }
 },
 "nbformat": 4,
 "nbformat_minor": 4
}
