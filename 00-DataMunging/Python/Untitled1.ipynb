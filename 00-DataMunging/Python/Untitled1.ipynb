{
 "cells": [
  {
   "cell_type": "code",
   "execution_count": 1,
   "metadata": {},
   "outputs": [],
   "source": [
    "# Importing the libraries\n",
    "using DataFrames, CSV"
   ]
  },
  {
   "cell_type": "code",
   "execution_count": 2,
   "metadata": {},
   "outputs": [],
   "source": [
    "dataset = CSV.read(\"Salary_Data.csv\", DataFrame);"
   ]
  },
  {
   "cell_type": "code",
   "execution_count": 3,
   "metadata": {},
   "outputs": [],
   "source": [
    "X = dataset[:,:1];\n",
    "y= dataset[:, :2];"
   ]
  },
  {
   "cell_type": "code",
   "execution_count": 4,
   "metadata": {},
   "outputs": [],
   "source": [
    "using MLJ, ScikitLearn"
   ]
  },
  {
   "cell_type": "code",
   "execution_count": 15,
   "metadata": {},
   "outputs": [
    {
     "name": "stderr",
     "output_type": "stream",
     "text": [
      "WARNING: import of CrossValidation.train_test_split into Main conflicts with an existing identifier; ignored.\n"
     ]
    }
   ],
   "source": [
    "#@sk_import model_selection: train_test_split\n",
    "using ScikitLearn.CrossValidation: train_test_split"
   ]
  },
  {
   "cell_type": "code",
   "execution_count": 16,
   "metadata": {},
   "outputs": [
    {
     "data": {
      "text/plain": [
       "4-element Vector{Vector{Float64}}:\n",
       " [9.5, 2.0, 8.7, 7.9, 8.2, 2.2, 1.5, 9.0, 3.0, 5.9  …  5.1, 1.1, 4.9, 10.5, 10.3, 3.7, 3.2, 4.0, 4.0, 2.9]\n",
       " [5.3, 7.1, 3.9, 6.0, 4.5, 6.8]\n",
       " [116969.0, 43525.0, 109431.0, 101302.0, 113812.0, 39891.0, 37731.0, 105582.0, 60150.0, 81363.0  …  66029.0, 39343.0, 67938.0, 121872.0, 122391.0, 57189.0, 64445.0, 56957.0, 55794.0, 56642.0]\n",
       " [83088.0, 98273.0, 63218.0, 93940.0, 61111.0, 91738.0]"
      ]
     },
     "execution_count": 16,
     "metadata": {},
     "output_type": "execute_result"
    }
   ],
   "source": [
    "X_train, X_test, y_train, y_test = train_test_split(X, y, test_size = 0.2, random_state = 1)"
   ]
  },
  {
   "cell_type": "code",
   "execution_count": 17,
   "metadata": {},
   "outputs": [
    {
     "name": "stdout",
     "output_type": "stream",
     "text": [
      "[116969.0, 43525.0, 109431.0, 101302.0, 113812.0, 39891.0, 37731.0, 105582.0, 60150.0, 81363.0, 57081.0, 54445.0, 112635.0, 46205.0, 66029.0, 39343.0, 67938.0, 121872.0, 122391.0, 57189.0, 64445.0, 56957.0, 55794.0, 56642.0]\n",
      "[9.5, 2.0, 8.7, 7.9, 8.2, 2.2, 1.5, 9.0, 3.0, 5.9, 4.1, 3.2, 9.6, 1.3, 5.1, 1.1, 4.9, 10.5, 10.3, 3.7, 3.2, 4.0, 4.0, 2.9]\n"
     ]
    }
   ],
   "source": [
    "println(y_train)\n",
    "println(X_train)"
   ]
  },
  {
   "cell_type": "code",
   "execution_count": 19,
   "metadata": {},
   "outputs": [
    {
     "data": {
      "text/plain": [
       "PyObject <class 'sklearn.linear_model._base.LinearRegression'>"
      ]
     },
     "execution_count": 19,
     "metadata": {},
     "output_type": "execute_result"
    }
   ],
   "source": [
    "@sk_import linear_model: LinearRegression"
   ]
  },
  {
   "cell_type": "code",
   "execution_count": 23,
   "metadata": {},
   "outputs": [
    {
     "data": {
      "text/plain": [
       "PyObject LinearRegression(copy_X=True, fit_intercept=True, n_jobs=None, normalize=False)"
      ]
     },
     "execution_count": 23,
     "metadata": {},
     "output_type": "execute_result"
    }
   ],
   "source": [
    "log_reg = LinearRegression()"
   ]
  },
  {
   "cell_type": "code",
   "execution_count": 24,
   "metadata": {},
   "outputs": [
    {
     "ename": "LoadError",
     "evalue": "UndefVarError: fit! not defined",
     "output_type": "error",
     "traceback": [
      "UndefVarError: fit! not defined",
      "",
      "Stacktrace:",
      " [1] top-level scope",
      "   @ In[24]:1",
      " [2] eval",
      "   @ ./boot.jl:368 [inlined]",
      " [3] include_string(mapexpr::typeof(REPL.softscope), mod::Module, code::String, filename::String)",
      "   @ Base ./loading.jl:1280"
     ]
    }
   ],
   "source": [
    "fit!(X_train, y_train)"
   ]
  },
  {
   "cell_type": "code",
   "execution_count": null,
   "metadata": {},
   "outputs": [],
   "source": []
  }
 ],
 "metadata": {
  "kernelspec": {
   "display_name": "Julia 1.7.0-DEV",
   "language": "julia",
   "name": "julia-1.7"
  },
  "language_info": {
   "file_extension": ".jl",
   "mimetype": "application/julia",
   "name": "julia",
   "version": "1.8.0"
  }
 },
 "nbformat": 4,
 "nbformat_minor": 4
}
